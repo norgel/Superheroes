{
 "cells": [
  {
   "cell_type": "markdown",
   "id": "919ed60e",
   "metadata": {},
   "source": [
    "Author: Nicholas Orgel\n",
    "\n",
    "Creation Date: 02.01.2023"
   ]
  },
  {
   "cell_type": "markdown",
   "id": "db756648",
   "metadata": {
    "heading_collapsed": true
   },
   "source": [
    "# Task\n",
    "Clean the files & combine them into one final DataFrame.\n",
    "\n",
    "- This dataframe should have the following columns:\n",
    "    - Hero (Just the name of the Hero)\n",
    "    - Publisher\n",
    "    - Gender\n",
    "    - Eye Color\n",
    "    - Race\n",
    "    - Hair Color\n",
    "    - Height (numeric)\n",
    "    - Skin Color\n",
    "    - Alignment\n",
    "    - Weight (numeric)\n",
    "    \n",
    "    - **Plus, one-hot-encoded columns for every power that appears in the dataset. E.g.:**\n",
    "        - Agility\n",
    "        - Flight\n",
    "        - Superspeed\n",
    "        - etc.\n",
    "        \n",
    "---\n",
    "\n",
    "**Hint: There is a space in \"100 kg\" or \"52.5 cm\"**"
   ]
  },
  {
   "cell_type": "markdown",
   "id": "70647152",
   "metadata": {
    "hidden": true
   },
   "source": [
    "## Questions To Answer\n",
    "\n",
    "**II: Use your combined DataFrame to answer the following questions.**\n",
    "\n",
    "- 1. Compare the average weight of superheroes who have Super Speed to those who do not.\n",
    "- 2. What is the average height of heroes for each publisher?\n",
    "\n",
    "---"
   ]
  },
  {
   "cell_type": "markdown",
   "id": "7fe130dd",
   "metadata": {},
   "source": [
    "# Steps"
   ]
  },
  {
   "cell_type": "markdown",
   "id": "081188b8",
   "metadata": {},
   "source": [
    "## Import Libraries"
   ]
  },
  {
   "cell_type": "code",
   "execution_count": null,
   "id": "223caabc",
   "metadata": {},
   "outputs": [],
   "source": []
  },
  {
   "cell_type": "markdown",
   "id": "1942e575",
   "metadata": {},
   "source": [
    "## Load DataFrames"
   ]
  },
  {
   "cell_type": "code",
   "execution_count": null,
   "id": "4e5a8fc4",
   "metadata": {},
   "outputs": [],
   "source": []
  }
 ],
 "metadata": {
  "kernelspec": {
   "display_name": "Python (dojo-env)",
   "language": "python",
   "name": "dojo-env"
  },
  "language_info": {
   "codemirror_mode": {
    "name": "ipython",
    "version": 3
   },
   "file_extension": ".py",
   "mimetype": "text/x-python",
   "name": "python",
   "nbconvert_exporter": "python",
   "pygments_lexer": "ipython3",
   "version": "3.9.15"
  },
  "toc": {
   "base_numbering": 1,
   "nav_menu": {},
   "number_sections": false,
   "sideBar": true,
   "skip_h1_title": false,
   "title_cell": "Table of Contents",
   "title_sidebar": "Contents",
   "toc_cell": false,
   "toc_position": {
    "height": "calc(100% - 180px)",
    "left": "10px",
    "top": "150px",
    "width": "307.995px"
   },
   "toc_section_display": true,
   "toc_window_display": true
  }
 },
 "nbformat": 4,
 "nbformat_minor": 5
}
